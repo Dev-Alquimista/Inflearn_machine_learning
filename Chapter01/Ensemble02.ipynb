{
 "cells": [
  {
   "attachments": {},
   "cell_type": "markdown",
   "metadata": {},
   "source": [
    "#### Random Forest \n"
   ]
  },
  {
   "cell_type": "code",
   "execution_count": 14,
   "metadata": {},
   "outputs": [],
   "source": [
    "import numpy as np\n",
    "import pandas as pd \n",
    "import seaborn as sns \n",
    "import matplotlib.pyplot as plt \n",
    "import sklearn \n",
    "\n",
    "from sklearn.model_selection import train_test_split, GridSearchCV \n",
    "from sklearn.linear_model import LinearRegression \n",
    "from sklearn.neighbors import KNeighborsClassifier\n",
    "from sklearn.datasets import load_breast_cancer\n",
    "from sklearn.metrics import accuracy_score \n",
    "from sklearn.ensemble import RandomForestClassifier \n",
    "\n"
   ]
  },
  {
   "cell_type": "code",
   "execution_count": 2,
   "metadata": {},
   "outputs": [],
   "source": [
    "def get_new_feature_name(df_old_feature_name):\n",
    "    df_feature_duplicate = pd.DataFrame(data=df_old_feature_name.groupby(\"column_name\").cumcount(), columns=[\"duplicate_cnt\"])\n",
    "    df_feature_duplicate = df_feature_duplicate.reset_index()\n",
    "    df_new_feature_name = pd.merge(df_old_feature_name.reset_index(), df_feature_duplicate, how=\"outer\")\n",
    "    df_new_feature_name[\"column_name\"] = df_new_feature_name[[\"column_name\", \"duplicate_cnt\"]].apply(lambda x : x[0] + \"_\" +str(x[1]) if x[1]>0 else x [0], axis=1)\n",
    "   \n",
    "    \n",
    "    df_new_feature_name = df_new_feature_name.drop([\"index\"], axis=1)\n",
    "    return df_new_feature_name\n",
    "    "
   ]
  },
  {
   "cell_type": "code",
   "execution_count": 3,
   "metadata": {},
   "outputs": [],
   "source": [
    "def get_human_dataset():\n",
    "    df_feature_name = pd.read_csv(\"E:\\\\workSpace_Dataset\\\\UCI\\\\UCI HAR Dataset\\\\features.txt\", sep=\"\\s+\", header=None, names=['column_index','column_name'])\n",
    "    df_new_feature_name = get_new_feature_name(df_feature_name) \n",
    "    feature_name = df_new_feature_name.iloc[:, 1].values.tolist()\n",
    "   \n",
    "    X_train = pd.read_csv(\"E:\\\\workSpace_Dataset\\\\UCI\\\\UCI HAR Dataset\\\\train\\\\X_train.txt\", sep=\"\\s+\", names = feature_name)\n",
    "    X_test = pd.read_csv(\"E:\\\\workSpace_Dataset\\\\UCI\\\\UCI HAR Dataset\\\\test\\\\X_test.txt\", sep=\"\\s+\", names = feature_name)\n",
    "   \n",
    "    y_train = pd.read_csv(\"E:\\\\workSpace_Dataset\\\\UCI\\\\UCI HAR Dataset\\\\train\\\\y_train.txt\",sep='\\s+',header=None,names=['action'])\n",
    "    y_test = pd.read_csv(\"E:\\\\workSpace_Dataset\\\\UCI\\\\UCI HAR Dataset\\\\test\\\\y_test.txt\",sep='\\s+',header=None,names=['action'])\n",
    "   \n",
    "    return X_train, X_test, y_train, y_test "
   ]
  },
  {
   "cell_type": "code",
   "execution_count": 4,
   "metadata": {},
   "outputs": [],
   "source": [
    "\n",
    "X_train, X_test, y_train, y_test = get_human_dataset()"
   ]
  },
  {
   "cell_type": "code",
   "execution_count": 5,
   "metadata": {},
   "outputs": [
    {
     "name": "stdout",
     "output_type": "stream",
     "text": [
      "(7352, 561)\n",
      "(2947, 561)\n",
      "(7352, 1)\n",
      "(2947, 1)\n"
     ]
    }
   ],
   "source": [
    "print(X_train.shape)\n",
    "print(X_test.shape)\n",
    "print(y_train.shape)\n",
    "print(y_test.shape)\n"
   ]
  },
  {
   "cell_type": "code",
   "execution_count": 6,
   "metadata": {},
   "outputs": [
    {
     "name": "stderr",
     "output_type": "stream",
     "text": [
      "C:\\Users\\lio22\\AppData\\Local\\Temp\\ipykernel_10008\\1865720515.py:2: DataConversionWarning: A column-vector y was passed when a 1d array was expected. Please change the shape of y to (n_samples,), for example using ravel().\n",
      "  rf_clf.fit(X_train, y_train)\n"
     ]
    },
    {
     "name": "stdout",
     "output_type": "stream",
     "text": [
      "Accuracy of Random Forest 0.9196\n"
     ]
    }
   ],
   "source": [
    "rf_clf = RandomForestClassifier(n_estimators=100, random_state=0, max_depth=8)\n",
    "rf_clf.fit(X_train, y_train)\n",
    "predict_result = rf_clf.predict(X_test)\n",
    "accuracy = accuracy_score(y_test, predict_result)\n",
    "print(\"Accuracy of Random Forest {0:.4f}\".format(accuracy))\n"
   ]
  },
  {
   "cell_type": "code",
   "execution_count": 7,
   "metadata": {},
   "outputs": [
    {
     "name": "stderr",
     "output_type": "stream",
     "text": [
      "c:\\Users\\lio22\\AppData\\Local\\Programs\\Python\\Python38\\lib\\site-packages\\sklearn\\model_selection\\_search.py:926: DataConversionWarning: A column-vector y was passed when a 1d array was expected. Please change the shape of y to (n_samples,), for example using ravel().\n",
      "  self.best_estimator_.fit(X, y, **fit_params)\n"
     ]
    },
    {
     "name": "stdout",
     "output_type": "stream",
     "text": [
      "Best Hyper : {'max_depth': 16, 'min_samples_leaf': 6, 'min_samples_split': 2}\n",
      "Best Accuracy : 0.9165\n"
     ]
    }
   ],
   "source": [
    "params = {\"max_depth\" : [8, 16, 24], \n",
    "          \"min_samples_leaf\":[1, 6, 12], \n",
    "          \"min_samples_split\": [2, 8, 16]}\n",
    "\n",
    "rf_clf = RandomForestClassifier(n_estimators=100, random_state=0, n_jobs= -1)\n",
    "grid_cv = GridSearchCV(rf_clf, param_grid=params, cv=2, n_jobs=-1)\n",
    "grid_cv.fit(X_train, y_train)\n",
    "\n",
    "print(\"Best Hyper : {0}\".format(grid_cv.best_params_))\n",
    "print(\"Best Accuracy : {0:.4f}\".format(grid_cv.best_score_))\n",
    "\n",
    "\n"
   ]
  },
  {
   "cell_type": "code",
   "execution_count": 11,
   "metadata": {},
   "outputs": [
    {
     "name": "stderr",
     "output_type": "stream",
     "text": [
      "C:\\Users\\lio22\\AppData\\Local\\Temp\\ipykernel_10008\\2315575182.py:3: DataConversionWarning: A column-vector y was passed when a 1d array was expected. Please change the shape of y to (n_samples,), for example using ravel().\n",
      "  rf_clf_1.fit(X_train, y_train)\n"
     ]
    },
    {
     "name": "stdout",
     "output_type": "stream",
     "text": [
      "Accuracy of Predict 0.9260\n"
     ]
    }
   ],
   "source": [
    "rf_clf_1 = RandomForestClassifier(n_estimators=100, min_samples_leaf=6, max_depth=16, min_samples_split=2, random_state=0)\n",
    "\n",
    "rf_clf_1.fit(X_train, y_train)\n",
    "predict_result = rf_clf_1.predict(X_test)\n",
    "print(\"Accuracy of Predict {0:.4f}\".format(accuracy_score(y_test, predict_result)))\n",
    "\n",
    " "
   ]
  },
  {
   "cell_type": "code",
   "execution_count": 16,
   "metadata": {},
   "outputs": [],
   "source": [
    "np_importances_values = rf_clf_1.feature_importances_\n",
    "se_importances = pd.Series(np_importances_values, index=X_train.columns)\n",
    "se_importances_top20 = se_importances.sort_values(ascending=False)[:20]\n"
   ]
  },
  {
   "cell_type": "code",
   "execution_count": 17,
   "metadata": {},
   "outputs": [
    {
     "data": {
      "text/plain": [
       "<AxesSubplot:title={'center':'Feature importances Top 20'}>"
      ]
     },
     "execution_count": 17,
     "metadata": {},
     "output_type": "execute_result"
    },
    {
     "data": {
      "image/png": "[encoded data removed]",
      "text/plain": [
       "<Figure size 864x576 with 1 Axes>"
      ]
     },
     "metadata": {
      "needs_background": "light"
     },
     "output_type": "display_data"
    }
   ],
   "source": [
    "plt.figure(figsize=(12, 8))\n",
    "plt.title(\"Feature importances Top 20\")\n",
    "sns.barplot(x=se_importances_top20, y= se_importances_top20.index)\n"
   ]
  }
 ],
 "metadata": {
  "kernelspec": {
   "display_name": "Python 3",
   "language": "python",
   "name": "python3"
  },
  "language_info": {
   "codemirror_mode": {
    "name": "ipython",
    "version": 3
   },
   "file_extension": ".py",
   "mimetype": "text/x-python",
   "name": "python",
   "nbconvert_exporter": "python",
   "pygments_lexer": "ipython3",
   "version": "3.8.10"
  },
  "orig_nbformat": 4,
  "vscode": {
   "interpreter": {
    "hash": "84aa361dc03af9f972324ef6cf6aceb4cafe779b49f49a96b4c6f61010530933"
   }
  }
 },
 "nbformat": 4,
 "nbformat_minor": 2
}
