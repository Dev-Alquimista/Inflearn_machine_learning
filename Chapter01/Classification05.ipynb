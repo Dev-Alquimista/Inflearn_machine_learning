{
 "cells": [
  {
   "cell_type": "code",
   "execution_count": 30,
   "metadata": {},
   "outputs": [],
   "source": [
    "import os \n",
    "import shutil\n",
    "import zipfile\n",
    "import sklearn\n",
    "import graphviz \n",
    "import numpy as np \n",
    "import pandas as pd\n",
    "import seaborn as sns \n",
    "import matplotlib.pyplot as plt \n",
    "\n",
    "from sklearn.preprocessing import MinMaxScaler, StandardScaler, OneHotEncoder, LabelEncoder\n",
    "from sklearn.model_selection import train_test_split, GridSearchCV \n",
    "from sklearn.metrics import accuracy_score, recall_score, precision_recall_curve, confusion_matrix \n",
    "from sklearn.tree import DecisionTreeClassifier, export_graphviz "
   ]
  },
  {
   "cell_type": "code",
   "execution_count": 2,
   "metadata": {},
   "outputs": [],
   "source": [
    "file_name = \"E:\\\\workSpace_Dataset\\\\UCI HAR Dataset.zip\"\n",
    "EXTRACT_DIR = \"E:\\\\workSpace_Dataset\\\\UCI\"\n",
    "ACRHIVE_FORMAT = \"zip\"\n",
    "\n",
    "shutil.unpack_archive(file_name, EXTRACT_DIR, ACRHIVE_FORMAT)"
   ]
  },
  {
   "cell_type": "code",
   "execution_count": 3,
   "metadata": {},
   "outputs": [],
   "source": [
    "df_feature_name = pd.read_csv(\"E:\\\\workSpace_Dataset\\\\UCI\\\\UCI HAR Dataset\\\\features.txt\", sep=\"\\s+\", header=None, names=['column_index','column_name'])"
   ]
  },
  {
   "cell_type": "code",
   "execution_count": 4,
   "metadata": {},
   "outputs": [
    {
     "data": {
      "text/html": [
       "<div>\n",
       "<style scoped>\n",
       "    .dataframe tbody tr th:only-of-type {\n",
       "        vertical-align: middle;\n",
       "    }\n",
       "\n",
       "    .dataframe tbody tr th {\n",
       "        vertical-align: top;\n",
       "    }\n",
       "\n",
       "    .dataframe thead th {\n",
       "        text-align: right;\n",
       "    }\n",
       "</style>\n",
       "<table border=\"1\" class=\"dataframe\">\n",
       "  <thead>\n",
       "    <tr style=\"text-align: right;\">\n",
       "      <th></th>\n",
       "      <th>column_index</th>\n",
       "    </tr>\n",
       "    <tr>\n",
       "      <th>column_name</th>\n",
       "      <th></th>\n",
       "    </tr>\n",
       "  </thead>\n",
       "  <tbody>\n",
       "    <tr>\n",
       "      <th>angle(X,gravityMean)</th>\n",
       "      <td>1</td>\n",
       "    </tr>\n",
       "    <tr>\n",
       "      <th>angle(Y,gravityMean)</th>\n",
       "      <td>1</td>\n",
       "    </tr>\n",
       "    <tr>\n",
       "      <th>angle(Z,gravityMean)</th>\n",
       "      <td>1</td>\n",
       "    </tr>\n",
       "    <tr>\n",
       "      <th>angle(tBodyAccJerkMean),gravityMean)</th>\n",
       "      <td>1</td>\n",
       "    </tr>\n",
       "    <tr>\n",
       "      <th>angle(tBodyAccMean,gravity)</th>\n",
       "      <td>1</td>\n",
       "    </tr>\n",
       "    <tr>\n",
       "      <th>...</th>\n",
       "      <td>...</td>\n",
       "    </tr>\n",
       "    <tr>\n",
       "      <th>tGravityAccMag-max()</th>\n",
       "      <td>1</td>\n",
       "    </tr>\n",
       "    <tr>\n",
       "      <th>tGravityAccMag-mean()</th>\n",
       "      <td>1</td>\n",
       "    </tr>\n",
       "    <tr>\n",
       "      <th>tGravityAccMag-min()</th>\n",
       "      <td>1</td>\n",
       "    </tr>\n",
       "    <tr>\n",
       "      <th>tGravityAccMag-sma()</th>\n",
       "      <td>1</td>\n",
       "    </tr>\n",
       "    <tr>\n",
       "      <th>tGravityAccMag-std()</th>\n",
       "      <td>1</td>\n",
       "    </tr>\n",
       "  </tbody>\n",
       "</table>\n",
       "<p>477 rows × 1 columns</p>\n",
       "</div>"
      ],
      "text/plain": [
       "                                      column_index\n",
       "column_name                                       \n",
       "angle(X,gravityMean)                             1\n",
       "angle(Y,gravityMean)                             1\n",
       "angle(Z,gravityMean)                             1\n",
       "angle(tBodyAccJerkMean),gravityMean)             1\n",
       "angle(tBodyAccMean,gravity)                      1\n",
       "...                                            ...\n",
       "tGravityAccMag-max()                             1\n",
       "tGravityAccMag-mean()                            1\n",
       "tGravityAccMag-min()                             1\n",
       "tGravityAccMag-sma()                             1\n",
       "tGravityAccMag-std()                             1\n",
       "\n",
       "[477 rows x 1 columns]"
      ]
     },
     "execution_count": 4,
     "metadata": {},
     "output_type": "execute_result"
    }
   ],
   "source": [
    "df_feature_duplicate = df_feature_name.groupby(\"column_name\").count()\n",
    "df_feature_duplicate"
   ]
  },
  {
   "cell_type": "code",
   "execution_count": 7,
   "metadata": {},
   "outputs": [
    {
     "name": "stdout",
     "output_type": "stream",
     "text": [
      "column_index    42\n",
      "dtype: int64\n"
     ]
    },
    {
     "data": {
      "text/html": [
       "<div>\n",
       "<style scoped>\n",
       "    .dataframe tbody tr th:only-of-type {\n",
       "        vertical-align: middle;\n",
       "    }\n",
       "\n",
       "    .dataframe tbody tr th {\n",
       "        vertical-align: top;\n",
       "    }\n",
       "\n",
       "    .dataframe thead th {\n",
       "        text-align: right;\n",
       "    }\n",
       "</style>\n",
       "<table border=\"1\" class=\"dataframe\">\n",
       "  <thead>\n",
       "    <tr style=\"text-align: right;\">\n",
       "      <th></th>\n",
       "      <th>column_index</th>\n",
       "    </tr>\n",
       "    <tr>\n",
       "      <th>column_name</th>\n",
       "      <th></th>\n",
       "    </tr>\n",
       "  </thead>\n",
       "  <tbody>\n",
       "    <tr>\n",
       "      <th>fBodyAcc-bandsEnergy()-1,16</th>\n",
       "      <td>3</td>\n",
       "    </tr>\n",
       "    <tr>\n",
       "      <th>fBodyAcc-bandsEnergy()-1,24</th>\n",
       "      <td>3</td>\n",
       "    </tr>\n",
       "    <tr>\n",
       "      <th>fBodyAcc-bandsEnergy()-1,8</th>\n",
       "      <td>3</td>\n",
       "    </tr>\n",
       "    <tr>\n",
       "      <th>fBodyAcc-bandsEnergy()-17,24</th>\n",
       "      <td>3</td>\n",
       "    </tr>\n",
       "    <tr>\n",
       "      <th>fBodyAcc-bandsEnergy()-17,32</th>\n",
       "      <td>3</td>\n",
       "    </tr>\n",
       "    <tr>\n",
       "      <th>fBodyAcc-bandsEnergy()-25,32</th>\n",
       "      <td>3</td>\n",
       "    </tr>\n",
       "    <tr>\n",
       "      <th>fBodyAcc-bandsEnergy()-25,48</th>\n",
       "      <td>3</td>\n",
       "    </tr>\n",
       "    <tr>\n",
       "      <th>fBodyAcc-bandsEnergy()-33,40</th>\n",
       "      <td>3</td>\n",
       "    </tr>\n",
       "    <tr>\n",
       "      <th>fBodyAcc-bandsEnergy()-33,48</th>\n",
       "      <td>3</td>\n",
       "    </tr>\n",
       "    <tr>\n",
       "      <th>fBodyAcc-bandsEnergy()-41,48</th>\n",
       "      <td>3</td>\n",
       "    </tr>\n",
       "  </tbody>\n",
       "</table>\n",
       "</div>"
      ],
      "text/plain": [
       "                              column_index\n",
       "column_name                               \n",
       "fBodyAcc-bandsEnergy()-1,16              3\n",
       "fBodyAcc-bandsEnergy()-1,24              3\n",
       "fBodyAcc-bandsEnergy()-1,8               3\n",
       "fBodyAcc-bandsEnergy()-17,24             3\n",
       "fBodyAcc-bandsEnergy()-17,32             3\n",
       "fBodyAcc-bandsEnergy()-25,32             3\n",
       "fBodyAcc-bandsEnergy()-25,48             3\n",
       "fBodyAcc-bandsEnergy()-33,40             3\n",
       "fBodyAcc-bandsEnergy()-33,48             3\n",
       "fBodyAcc-bandsEnergy()-41,48             3"
      ]
     },
     "execution_count": 7,
     "metadata": {},
     "output_type": "execute_result"
    }
   ],
   "source": [
    "print(df_feature_duplicate[df_feature_duplicate[\"column_index\"] > 1].count())\n",
    "df_feature_duplicate[df_feature_duplicate[\"column_index\"]> 1].head(10)"
   ]
  },
  {
   "cell_type": "code",
   "execution_count": 19,
   "metadata": {},
   "outputs": [],
   "source": [
    "def get_new_feature_name(df_old_feature_name):\n",
    "    df_feature_duplicate = pd.DataFrame(data=df_old_feature_name.groupby(\"column_name\").cumcount(), columns=[\"duplicate_cnt\"])\n",
    "    df_feature_duplicate = df_feature_duplicate.reset_index()\n",
    "    df_new_feature_name = pd.merge(df_old_feature_name.reset_index(), df_feature_duplicate, how=\"outer\")\n",
    "    df_new_feature_name[\"column_name\"] = df_new_feature_name[[\"column_name\", \"duplicate_cnt\"]].apply(lambda x : x[0] + \"_\" +str(x[1]) if x[1]>0 else x [0], axis=1)\n",
    "   \n",
    "    \n",
    "    df_new_feature_name = df_new_feature_name.drop([\"index\"], axis=1)\n",
    "    return df_new_feature_name\n",
    "    "
   ]
  },
  {
   "cell_type": "code",
   "execution_count": 20,
   "metadata": {},
   "outputs": [],
   "source": [
    "def get_human_dataset():\n",
    "    df_feature_name = pd.read_csv(\"E:\\\\workSpace_Dataset\\\\UCI\\\\UCI HAR Dataset\\\\features.txt\", sep=\"\\s+\", header=None, names=['column_index','column_name'])\n",
    "    df_new_feature_name = get_new_feature_name(df_feature_name) \n",
    "    feature_name = df_new_feature_name.iloc[:, 1].values.tolist()\n",
    "   \n",
    "    X_train = pd.read_csv(\"E:\\\\workSpace_Dataset\\\\UCI\\\\UCI HAR Dataset\\\\train\\\\X_train.txt\", sep=\"\\s+\", names = feature_name)\n",
    "    X_test = pd.read_csv(\"E:\\\\workSpace_Dataset\\\\UCI\\\\UCI HAR Dataset\\\\test\\\\X_test.txt\", sep=\"\\s+\", names = feature_name)\n",
    "   \n",
    "    y_train = pd.read_csv(\"E:\\\\workSpace_Dataset\\\\UCI\\\\UCI HAR Dataset\\\\train\\\\y_train.txt\",sep='\\s+',header=None,names=['action'])\n",
    "    y_test = pd.read_csv(\"E:\\\\workSpace_Dataset\\\\UCI\\\\UCI HAR Dataset\\\\test\\\\y_test.txt\",sep='\\s+',header=None,names=['action'])\n",
    "   \n",
    "    return X_train, X_test, y_train, y_test \n"
   ]
  },
  {
   "cell_type": "code",
   "execution_count": 21,
   "metadata": {},
   "outputs": [],
   "source": [
    "X_train, X_test, y_train, y_test = get_human_dataset()\n"
   ]
  },
  {
   "cell_type": "code",
   "execution_count": 23,
   "metadata": {},
   "outputs": [
    {
     "name": "stdout",
     "output_type": "stream",
     "text": [
      "(7352, 561)\n",
      "(2947, 561)\n",
      "(7352, 1)\n",
      "(2947, 1)\n"
     ]
    }
   ],
   "source": [
    "print(X_train.shape)\n",
    "print(X_test.shape)\n",
    "print(y_train.shape)\n",
    "print(y_test.shape)"
   ]
  },
  {
   "cell_type": "code",
   "execution_count": 26,
   "metadata": {},
   "outputs": [
    {
     "name": "stdout",
     "output_type": "stream",
     "text": [
      "6    1407\n",
      "5    1374\n",
      "4    1286\n",
      "1    1226\n",
      "2    1073\n",
      "3     986\n",
      "Name: action, dtype: int64\n"
     ]
    }
   ],
   "source": [
    "print(y_train[\"action\"].value_counts())"
   ]
  },
  {
   "cell_type": "code",
   "execution_count": 28,
   "metadata": {},
   "outputs": [
    {
     "name": "stdout",
     "output_type": "stream",
     "text": [
      "<class 'numpy.ndarray'>\n",
      "Predictuve Accuracy of  Decision Tree 0.8548\n"
     ]
    }
   ],
   "source": [
    "dt_clf = DecisionTreeClassifier(random_state=156)\n",
    "dt_clf.fit(X_train, y_train)\n",
    "predict_result = dt_clf.predict(X_test)\n",
    "print(type(predict_result))\n",
    "accuracy = accuracy_score(y_test, predict_result)\n",
    "print(\"Predictuve Accuracy of  Decision Tree {0:.4f}\".format(accuracy))"
   ]
  },
  {
   "cell_type": "code",
   "execution_count": 29,
   "metadata": {},
   "outputs": [
    {
     "name": "stdout",
     "output_type": "stream",
     "text": [
      "Decision Tree Basic Parameter\n",
      " {'ccp_alpha': 0.0, 'class_weight': None, 'criterion': 'gini', 'max_depth': None, 'max_features': None, 'max_leaf_nodes': None, 'min_impurity_decrease': 0.0, 'min_samples_leaf': 1, 'min_samples_split': 2, 'min_weight_fraction_leaf': 0.0, 'random_state': 156, 'splitter': 'best'}\n"
     ]
    }
   ],
   "source": [
    "print(\"Decision Tree Basic Parameter\\n\", dt_clf.get_params())"
   ]
  },
  {
   "cell_type": "code",
   "execution_count": 31,
   "metadata": {},
   "outputs": [],
   "source": [
    "params = {\"max_depth\": [6, 8, 10, 12, 16, 20, 24],\n",
    "          \"min_samples_split\":[16]}"
   ]
  },
  {
   "cell_type": "code",
   "execution_count": 33,
   "metadata": {},
   "outputs": [
    {
     "name": "stdout",
     "output_type": "stream",
     "text": [
      "Fitting 5 folds for each of 7 candidates, totalling 35 fits\n",
      "GridSearCV Best Average Accuracy 0.8549\n",
      "GridSearchCV Best Hypter Parameter  {'max_depth': 8, 'min_samples_split': 16}\n"
     ]
    }
   ],
   "source": [
    "grid_cv = GridSearchCV(dt_clf, param_grid=params, scoring=\"accuracy\", cv=5, verbose=1)\n",
    "grid_cv.fit(X_train, y_train) \n",
    "print(\"GridSearCV Best Average Accuracy {0:.4f}\".format(grid_cv.best_score_))\n",
    "print(\"GridSearchCV Best Hypter Parameter \", grid_cv.best_params_)"
   ]
  },
  {
   "cell_type": "code",
   "execution_count": 35,
   "metadata": {},
   "outputs": [
    {
     "data": {
      "text/html": [
       "<div>\n",
       "<style scoped>\n",
       "    .dataframe tbody tr th:only-of-type {\n",
       "        vertical-align: middle;\n",
       "    }\n",
       "\n",
       "    .dataframe tbody tr th {\n",
       "        vertical-align: top;\n",
       "    }\n",
       "\n",
       "    .dataframe thead th {\n",
       "        text-align: right;\n",
       "    }\n",
       "</style>\n",
       "<table border=\"1\" class=\"dataframe\">\n",
       "  <thead>\n",
       "    <tr style=\"text-align: right;\">\n",
       "      <th></th>\n",
       "      <th>param_max_depth</th>\n",
       "      <th>mean_test_score</th>\n",
       "    </tr>\n",
       "  </thead>\n",
       "  <tbody>\n",
       "    <tr>\n",
       "      <th>0</th>\n",
       "      <td>6</td>\n",
       "      <td>0.847662</td>\n",
       "    </tr>\n",
       "    <tr>\n",
       "      <th>1</th>\n",
       "      <td>8</td>\n",
       "      <td>0.854879</td>\n",
       "    </tr>\n",
       "    <tr>\n",
       "      <th>2</th>\n",
       "      <td>10</td>\n",
       "      <td>0.852705</td>\n",
       "    </tr>\n",
       "    <tr>\n",
       "      <th>3</th>\n",
       "      <td>12</td>\n",
       "      <td>0.845768</td>\n",
       "    </tr>\n",
       "    <tr>\n",
       "      <th>4</th>\n",
       "      <td>16</td>\n",
       "      <td>0.847127</td>\n",
       "    </tr>\n",
       "    <tr>\n",
       "      <th>5</th>\n",
       "      <td>20</td>\n",
       "      <td>0.848624</td>\n",
       "    </tr>\n",
       "    <tr>\n",
       "      <th>6</th>\n",
       "      <td>24</td>\n",
       "      <td>0.848624</td>\n",
       "    </tr>\n",
       "  </tbody>\n",
       "</table>\n",
       "</div>"
      ],
      "text/plain": [
       "  param_max_depth  mean_test_score\n",
       "0               6         0.847662\n",
       "1               8         0.854879\n",
       "2              10         0.852705\n",
       "3              12         0.845768\n",
       "4              16         0.847127\n",
       "5              20         0.848624\n",
       "6              24         0.848624"
      ]
     },
     "execution_count": 35,
     "metadata": {},
     "output_type": "execute_result"
    }
   ],
   "source": [
    "df_cv_result = pd.DataFrame(grid_cv.cv_results_)\n",
    "\n",
    "df_cv_result [[\"param_max_depth\", \"mean_test_score\"]]"
   ]
  },
  {
   "cell_type": "code",
   "execution_count": 36,
   "metadata": {},
   "outputs": [
    {
     "data": {
      "text/html": [
       "<div>\n",
       "<style scoped>\n",
       "    .dataframe tbody tr th:only-of-type {\n",
       "        vertical-align: middle;\n",
       "    }\n",
       "\n",
       "    .dataframe tbody tr th {\n",
       "        vertical-align: top;\n",
       "    }\n",
       "\n",
       "    .dataframe thead th {\n",
       "        text-align: right;\n",
       "    }\n",
       "</style>\n",
       "<table border=\"1\" class=\"dataframe\">\n",
       "  <thead>\n",
       "    <tr style=\"text-align: right;\">\n",
       "      <th></th>\n",
       "      <th>mean_fit_time</th>\n",
       "      <th>std_fit_time</th>\n",
       "      <th>mean_score_time</th>\n",
       "      <th>std_score_time</th>\n",
       "      <th>param_max_depth</th>\n",
       "      <th>param_min_samples_split</th>\n",
       "      <th>params</th>\n",
       "      <th>split0_test_score</th>\n",
       "      <th>split1_test_score</th>\n",
       "      <th>split2_test_score</th>\n",
       "      <th>split3_test_score</th>\n",
       "      <th>split4_test_score</th>\n",
       "      <th>mean_test_score</th>\n",
       "      <th>std_test_score</th>\n",
       "      <th>rank_test_score</th>\n",
       "    </tr>\n",
       "  </thead>\n",
       "  <tbody>\n",
       "    <tr>\n",
       "      <th>0</th>\n",
       "      <td>1.650257</td>\n",
       "      <td>0.061302</td>\n",
       "      <td>0.009573</td>\n",
       "      <td>0.004746</td>\n",
       "      <td>6</td>\n",
       "      <td>16</td>\n",
       "      <td>{'max_depth': 6, 'min_samples_split': 16}</td>\n",
       "      <td>0.813732</td>\n",
       "      <td>0.868117</td>\n",
       "      <td>0.819728</td>\n",
       "      <td>0.866667</td>\n",
       "      <td>0.870068</td>\n",
       "      <td>0.847662</td>\n",
       "      <td>0.025350</td>\n",
       "      <td>5</td>\n",
       "    </tr>\n",
       "    <tr>\n",
       "      <th>1</th>\n",
       "      <td>2.058015</td>\n",
       "      <td>0.019808</td>\n",
       "      <td>0.006580</td>\n",
       "      <td>0.000800</td>\n",
       "      <td>8</td>\n",
       "      <td>16</td>\n",
       "      <td>{'max_depth': 8, 'min_samples_split': 16}</td>\n",
       "      <td>0.806254</td>\n",
       "      <td>0.830048</td>\n",
       "      <td>0.860544</td>\n",
       "      <td>0.874830</td>\n",
       "      <td>0.902721</td>\n",
       "      <td>0.854879</td>\n",
       "      <td>0.033764</td>\n",
       "      <td>1</td>\n",
       "    </tr>\n",
       "    <tr>\n",
       "      <th>2</th>\n",
       "      <td>2.778256</td>\n",
       "      <td>0.416653</td>\n",
       "      <td>0.006775</td>\n",
       "      <td>0.000755</td>\n",
       "      <td>10</td>\n",
       "      <td>16</td>\n",
       "      <td>{'max_depth': 10, 'min_samples_split': 16}</td>\n",
       "      <td>0.804895</td>\n",
       "      <td>0.816451</td>\n",
       "      <td>0.866667</td>\n",
       "      <td>0.884354</td>\n",
       "      <td>0.891156</td>\n",
       "      <td>0.852705</td>\n",
       "      <td>0.035427</td>\n",
       "      <td>2</td>\n",
       "    </tr>\n",
       "    <tr>\n",
       "      <th>3</th>\n",
       "      <td>2.861658</td>\n",
       "      <td>0.343724</td>\n",
       "      <td>0.007974</td>\n",
       "      <td>0.002542</td>\n",
       "      <td>12</td>\n",
       "      <td>16</td>\n",
       "      <td>{'max_depth': 12, 'min_samples_split': 16}</td>\n",
       "      <td>0.798097</td>\n",
       "      <td>0.810333</td>\n",
       "      <td>0.851020</td>\n",
       "      <td>0.884354</td>\n",
       "      <td>0.885034</td>\n",
       "      <td>0.845768</td>\n",
       "      <td>0.036295</td>\n",
       "      <td>7</td>\n",
       "    </tr>\n",
       "    <tr>\n",
       "      <th>4</th>\n",
       "      <td>3.660585</td>\n",
       "      <td>0.850031</td>\n",
       "      <td>0.006382</td>\n",
       "      <td>0.000489</td>\n",
       "      <td>16</td>\n",
       "      <td>16</td>\n",
       "      <td>{'max_depth': 16, 'min_samples_split': 16}</td>\n",
       "      <td>0.800816</td>\n",
       "      <td>0.815092</td>\n",
       "      <td>0.858503</td>\n",
       "      <td>0.876871</td>\n",
       "      <td>0.884354</td>\n",
       "      <td>0.847127</td>\n",
       "      <td>0.033379</td>\n",
       "      <td>6</td>\n",
       "    </tr>\n",
       "    <tr>\n",
       "      <th>5</th>\n",
       "      <td>3.247701</td>\n",
       "      <td>0.283137</td>\n",
       "      <td>0.006589</td>\n",
       "      <td>0.000810</td>\n",
       "      <td>20</td>\n",
       "      <td>16</td>\n",
       "      <td>{'max_depth': 20, 'min_samples_split': 16}</td>\n",
       "      <td>0.798097</td>\n",
       "      <td>0.815092</td>\n",
       "      <td>0.858503</td>\n",
       "      <td>0.876871</td>\n",
       "      <td>0.894558</td>\n",
       "      <td>0.848624</td>\n",
       "      <td>0.036559</td>\n",
       "      <td>3</td>\n",
       "    </tr>\n",
       "    <tr>\n",
       "      <th>6</th>\n",
       "      <td>3.773302</td>\n",
       "      <td>0.549281</td>\n",
       "      <td>0.009578</td>\n",
       "      <td>0.002782</td>\n",
       "      <td>24</td>\n",
       "      <td>16</td>\n",
       "      <td>{'max_depth': 24, 'min_samples_split': 16}</td>\n",
       "      <td>0.798097</td>\n",
       "      <td>0.815092</td>\n",
       "      <td>0.858503</td>\n",
       "      <td>0.876871</td>\n",
       "      <td>0.894558</td>\n",
       "      <td>0.848624</td>\n",
       "      <td>0.036559</td>\n",
       "      <td>3</td>\n",
       "    </tr>\n",
       "  </tbody>\n",
       "</table>\n",
       "</div>"
      ],
      "text/plain": [
       "   mean_fit_time  std_fit_time  mean_score_time  std_score_time  \\\n",
       "0       1.650257      0.061302         0.009573        0.004746   \n",
       "1       2.058015      0.019808         0.006580        0.000800   \n",
       "2       2.778256      0.416653         0.006775        0.000755   \n",
       "3       2.861658      0.343724         0.007974        0.002542   \n",
       "4       3.660585      0.850031         0.006382        0.000489   \n",
       "5       3.247701      0.283137         0.006589        0.000810   \n",
       "6       3.773302      0.549281         0.009578        0.002782   \n",
       "\n",
       "  param_max_depth param_min_samples_split  \\\n",
       "0               6                      16   \n",
       "1               8                      16   \n",
       "2              10                      16   \n",
       "3              12                      16   \n",
       "4              16                      16   \n",
       "5              20                      16   \n",
       "6              24                      16   \n",
       "\n",
       "                                       params  split0_test_score  \\\n",
       "0   {'max_depth': 6, 'min_samples_split': 16}           0.813732   \n",
       "1   {'max_depth': 8, 'min_samples_split': 16}           0.806254   \n",
       "2  {'max_depth': 10, 'min_samples_split': 16}           0.804895   \n",
       "3  {'max_depth': 12, 'min_samples_split': 16}           0.798097   \n",
       "4  {'max_depth': 16, 'min_samples_split': 16}           0.800816   \n",
       "5  {'max_depth': 20, 'min_samples_split': 16}           0.798097   \n",
       "6  {'max_depth': 24, 'min_samples_split': 16}           0.798097   \n",
       "\n",
       "   split1_test_score  split2_test_score  split3_test_score  split4_test_score  \\\n",
       "0           0.868117           0.819728           0.866667           0.870068   \n",
       "1           0.830048           0.860544           0.874830           0.902721   \n",
       "2           0.816451           0.866667           0.884354           0.891156   \n",
       "3           0.810333           0.851020           0.884354           0.885034   \n",
       "4           0.815092           0.858503           0.876871           0.884354   \n",
       "5           0.815092           0.858503           0.876871           0.894558   \n",
       "6           0.815092           0.858503           0.876871           0.894558   \n",
       "\n",
       "   mean_test_score  std_test_score  rank_test_score  \n",
       "0         0.847662        0.025350                5  \n",
       "1         0.854879        0.033764                1  \n",
       "2         0.852705        0.035427                2  \n",
       "3         0.845768        0.036295                7  \n",
       "4         0.847127        0.033379                6  \n",
       "5         0.848624        0.036559                3  \n",
       "6         0.848624        0.036559                3  "
      ]
     },
     "execution_count": 36,
     "metadata": {},
     "output_type": "execute_result"
    }
   ],
   "source": [
    "df_cv_result"
   ]
  },
  {
   "cell_type": "code",
   "execution_count": 37,
   "metadata": {},
   "outputs": [
    {
     "name": "stdout",
     "output_type": "stream",
     "text": [
      "Max Depth 6 Accuracy 0.8551\n",
      "Max Depth 8 Accuracy 0.8717\n",
      "Max Depth 10 Accuracy 0.8599\n",
      "Max Depth 12 Accuracy 0.8571\n",
      "Max Depth 16 Accuracy 0.8599\n",
      "Max Depth 18 Accuracy 0.8565\n",
      "Max Depth 20 Accuracy 0.8565\n",
      "Max Depth 22 Accuracy 0.8565\n",
      "Max Depth 24 Accuracy 0.8565\n"
     ]
    }
   ],
   "source": [
    "lst_max_depth  = [6, 8, 10, 12, 16, 18, 20, 22, 24]\n",
    "\n",
    "for depth in lst_max_depth : \n",
    "    dt_clf = DecisionTreeClassifier(max_depth=depth, min_samples_split=16, random_state=156)\n",
    "    dt_clf.fit(X_train, y_train)\n",
    "    predict = dt_clf.predict(X_test)\n",
    "    accuracy = accuracy_score(y_test, predict)\n",
    "    print(\"Max Depth {0} Accuracy {1:.4f}\".format(depth, accuracy))"
   ]
  },
  {
   "cell_type": "code",
   "execution_count": 39,
   "metadata": {},
   "outputs": [
    {
     "name": "stdout",
     "output_type": "stream",
     "text": [
      "Fitting 5 folds for each of 12 candidates, totalling 60 fits\n",
      "GridSearchCV Best Average accuracy value : 0.8549\n",
      "GridSearchCV Best Hyper Paramter : {'max_depth': 8, 'min_samples_split': 16}\n"
     ]
    }
   ],
   "source": [
    "params = {\"max_depth\" :[4, 8, 12, 16, 20 , 24 ], \n",
    "          \"min_samples_split\" : [16, 24]}\n",
    "\n",
    "grid_cv = GridSearchCV(dt_clf, param_grid=params, scoring=\"accuracy\", cv=5, verbose=1)\n",
    "grid_cv.fit(X_train, y_train)\n",
    "\n",
    "\n",
    "\n"
   ]
  },
  {
   "cell_type": "code",
   "execution_count": 40,
   "metadata": {},
   "outputs": [
    {
     "name": "stdout",
     "output_type": "stream",
     "text": [
      "GridSearchCV Best Average accuracy value : 0.8549\n",
      "GridSearchCV Best Hyper Paramter : {'max_depth': 8, 'min_samples_split': 16}\n"
     ]
    }
   ],
   "source": [
    "print(\"GridSearchCV Best Average accuracy value : {0:.4f}\".format(grid_cv.best_score_))\n",
    "print(\"GridSearchCV Best Hyper Paramter : {0}\".format(grid_cv.best_params_))"
   ]
  },
  {
   "cell_type": "code",
   "execution_count": 44,
   "metadata": {},
   "outputs": [
    {
     "name": "stdout",
     "output_type": "stream",
     "text": [
      "Accuracy : 0.8717\n"
     ]
    }
   ],
   "source": [
    "best_dt_clf = grid_cv.best_estimator_ \n",
    "best_prediction = best_dt_clf.predict(X_test)\n",
    "accuracy = accuracy_score(y_test, best_prediction)\n",
    "print(\"Accuracy : {0:.4f}\".format(accuracy))"
   ]
  },
  {
   "cell_type": "code",
   "execution_count": 46,
   "metadata": {},
   "outputs": [
    {
     "data": {
      "text/plain": [
       "tBodyAcc-mean()-X                       0.000000\n",
       "tBodyAcc-mean()-Y                       0.000000\n",
       "tBodyAcc-mean()-Z                       0.000000\n",
       "tBodyAcc-std()-X                        0.000000\n",
       "tBodyAcc-std()-Y                        0.001752\n",
       "                                          ...   \n",
       "angle(tBodyGyroMean,gravityMean)        0.001291\n",
       "angle(tBodyGyroJerkMean,gravityMean)    0.000000\n",
       "angle(X,gravityMean)                    0.000989\n",
       "angle(Y,gravityMean)                    0.139001\n",
       "angle(Z,gravityMean)                    0.002987\n",
       "Length: 561, dtype: float64"
      ]
     },
     "execution_count": 46,
     "metadata": {},
     "output_type": "execute_result"
    }
   ],
   "source": [
    "ftr_importance"
   ]
  },
  {
   "cell_type": "code",
   "execution_count": 48,
   "metadata": {},
   "outputs": [
    {
     "data": {
      "image/png": "[encoded data removed]",
      "text/plain": [
       "<Figure size 576x432 with 1 Axes>"
      ]
     },
     "metadata": {
      "needs_background": "light"
     },
     "output_type": "display_data"
    }
   ],
   "source": [
    "ftr_importance_values = best_dt_clf.feature_importances_\n",
    "\n",
    "ftr_importance = pd.Series(ftr_importance_values, index = X_train.columns)\n",
    "\n",
    "ftr_top20 = ftr_importance.sort_values(ascending=False)[:30]\n",
    "plt.figure(figsize=(8, 6))\n",
    "plt.title(\"Feature Importance Top 30\")\n",
    "sns.barplot(x=ftr_top20, y=ftr_top20.index)\n",
    "plt.show()"
   ]
  }
 ],
 "metadata": {
  "kernelspec": {
   "display_name": "Python 3",
   "language": "python",
   "name": "python3"
  },
  "language_info": {
   "codemirror_mode": {
    "name": "ipython",
    "version": 3
   },
   "file_extension": ".py",
   "mimetype": "text/x-python",
   "name": "python",
   "nbconvert_exporter": "python",
   "pygments_lexer": "ipython3",
   "version": "3.8.10"
  },
  "orig_nbformat": 4,
  "vscode": {
   "interpreter": {
    "hash": "84aa361dc03af9f972324ef6cf6aceb4cafe779b49f49a96b4c6f61010530933"
   }
  }
 },
 "nbformat": 4,
 "nbformat_minor": 2
}
