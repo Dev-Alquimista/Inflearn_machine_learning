{
 "cells": [
  {
   "cell_type": "code",
   "execution_count": 8,
   "metadata": {},
   "outputs": [],
   "source": [
    "import numpy as np\n",
    "import pandas as pd \n",
    "import matplotlib.pyplot as plt \n",
    "import seaborn as sns \n",
    "import sklearn \n",
    "import time \n",
    "\n",
    "from sklearn.model_selection import train_test_split, GridSearchCV  \n",
    "from sklearn.metrics import accuracy_score \n",
    "from sklearn.ensemble import RandomForestClassifier, GradientBoostingClassifier \n"
   ]
  },
  {
   "cell_type": "code",
   "execution_count": 3,
   "metadata": {},
   "outputs": [],
   "source": [
    "def get_new_feature_name(df_old_feature_name):\n",
    "    df_feature_duplicate = pd.DataFrame(data=df_old_feature_name.groupby(\"column_name\").cumcount(), columns=[\"duplicate_cnt\"])\n",
    "    df_feature_duplicate = df_feature_duplicate.reset_index()\n",
    "    df_new_feature_name = pd.merge(df_old_feature_name.reset_index(), df_feature_duplicate, how=\"outer\")\n",
    "    df_new_feature_name[\"column_name\"] = df_new_feature_name[[\"column_name\", \"duplicate_cnt\"]].apply(lambda x : x[0] + \"_\" +str(x[1]) if x[1]>0 else x [0], axis=1)\n",
    "   \n",
    "    \n",
    "    df_new_feature_name = df_new_feature_name.drop([\"index\"], axis=1)\n",
    "    return df_new_feature_name\n",
    "    \n",
    "\n",
    "def get_human_dataset():\n",
    "    df_feature_name = pd.read_csv(\"E:\\\\workSpace_Dataset\\\\UCI\\\\UCI HAR Dataset\\\\features.txt\", sep=\"\\s+\", header=None, names=['column_index','column_name'])\n",
    "    df_new_feature_name = get_new_feature_name(df_feature_name) \n",
    "    feature_name = df_new_feature_name.iloc[:, 1].values.tolist()\n",
    "   \n",
    "    X_train = pd.read_csv(\"E:\\\\workSpace_Dataset\\\\UCI\\\\UCI HAR Dataset\\\\train\\\\X_train.txt\", sep=\"\\s+\", names = feature_name)\n",
    "    X_test = pd.read_csv(\"E:\\\\workSpace_Dataset\\\\UCI\\\\UCI HAR Dataset\\\\test\\\\X_test.txt\", sep=\"\\s+\", names = feature_name)\n",
    "   \n",
    "    y_train = pd.read_csv(\"E:\\\\workSpace_Dataset\\\\UCI\\\\UCI HAR Dataset\\\\train\\\\y_train.txt\",sep='\\s+',header=None,names=['action'])\n",
    "    y_test = pd.read_csv(\"E:\\\\workSpace_Dataset\\\\UCI\\\\UCI HAR Dataset\\\\test\\\\y_test.txt\",sep='\\s+',header=None,names=['action'])\n",
    "   \n",
    "    return X_train, X_test, y_train, y_test "
   ]
  },
  {
   "cell_type": "code",
   "execution_count": 4,
   "metadata": {},
   "outputs": [],
   "source": [
    "X_train, X_test, y_train, y_test = get_human_dataset()"
   ]
  },
  {
   "cell_type": "code",
   "execution_count": 5,
   "metadata": {},
   "outputs": [],
   "source": [
    "start_time = time.time()"
   ]
  },
  {
   "cell_type": "code",
   "execution_count": 6,
   "metadata": {},
   "outputs": [
    {
     "name": "stderr",
     "output_type": "stream",
     "text": [
      "c:\\Users\\lio22\\AppData\\Local\\Programs\\Python\\Python38\\lib\\site-packages\\sklearn\\ensemble\\_gb.py:494: DataConversionWarning: A column-vector y was passed when a 1d array was expected. Please change the shape of y to (n_samples, ), for example using ravel().\n",
      "  y = column_or_1d(y, warn=True)\n"
     ]
    },
    {
     "name": "stdout",
     "output_type": "stream",
     "text": [
      "Accuracy of GBM 0.9389\n",
      "Time 899.6\n"
     ]
    }
   ],
   "source": [
    "gb_clf = GradientBoostingClassifier(random_state=121)\n",
    "gb_clf.fit(X_train, y_train)\n",
    "predict_result = gb_clf.predict(X_test)\n",
    "accuracy = accuracy_score(y_test, predict_result)\n",
    "\n",
    "print(\"Accuracy of GBM {0:.4f}\".format(accuracy))\n",
    "print(\"Time {0:.1f}\".format(time.time() - start_time))"
   ]
  },
  {
   "cell_type": "code",
   "execution_count": null,
   "metadata": {},
   "outputs": [],
   "source": [
    "params = {\"n_estimators\":[100, 500], \n",
    "          \"learning_rate\" : [0.05, 0.1]}\n",
    "\n",
    "grid_cv = GridSearchCV(gb_clf, param_grid=params, cv=2, verbose=1)\n",
    "grid_cv.fit(X_train, y_train)\n",
    "\n",
    "print(\"best Parameter:\", grid_cv.best_params_)\n",
    "print(\"best accuracy {0:.4f}\".format(grid_cv.best_score_))"
   ]
  },
  {
   "cell_type": "code",
   "execution_count": null,
   "metadata": {},
   "outputs": [],
   "source": [
    "gb_predict_result = grid_cv.best_estimator_.predict(X_test)\n",
    "gb_accuracy = accuracy_score(y_test, gb_predict_result)\n",
    "print(\"Accuracy of GBM : {0:.4f}\".format(gb_accuracy))"
   ]
  }
 ],
 "metadata": {
  "kernelspec": {
   "display_name": "Python 3",
   "language": "python",
   "name": "python3"
  },
  "language_info": {
   "codemirror_mode": {
    "name": "ipython",
    "version": 3
   },
   "file_extension": ".py",
   "mimetype": "text/x-python",
   "name": "python",
   "nbconvert_exporter": "python",
   "pygments_lexer": "ipython3",
   "version": "3.8.10"
  },
  "orig_nbformat": 4,
  "vscode": {
   "interpreter": {
    "hash": "84aa361dc03af9f972324ef6cf6aceb4cafe779b49f49a96b4c6f61010530933"
   }
  }
 },
 "nbformat": 4,
 "nbformat_minor": 2
}
